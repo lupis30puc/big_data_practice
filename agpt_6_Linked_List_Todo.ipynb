{
  "nbformat": 4,
  "nbformat_minor": 0,
  "metadata": {
    "kernelspec": {
      "display_name": "Python 3",
      "language": "python",
      "name": "python3"
    },
    "language_info": {
      "codemirror_mode": {
        "name": "ipython",
        "version": 3
      },
      "file_extension": ".py",
      "mimetype": "text/x-python",
      "name": "python",
      "nbconvert_exporter": "python",
      "pygments_lexer": "ipython3",
      "version": "3.7.1"
    },
    "varInspector": {
      "cols": {
        "lenName": 16,
        "lenType": 16,
        "lenVar": 40
      },
      "kernels_config": {
        "python": {
          "delete_cmd_postfix": "",
          "delete_cmd_prefix": "del ",
          "library": "var_list.py",
          "varRefreshCmd": "print(var_dic_list())"
        },
        "r": {
          "delete_cmd_postfix": ") ",
          "delete_cmd_prefix": "rm(",
          "library": "var_list.r",
          "varRefreshCmd": "cat(var_dic_list()) "
        }
      },
      "types_to_exclude": [
        "module",
        "function",
        "builtin_function_or_method",
        "instance",
        "_Feature"
      ],
      "window_display": false
    },
    "colab": {
      "name": "agpt_6 Linked-List-Todo.ipynb",
      "provenance": [],
      "collapsed_sections": [],
      "include_colab_link": true
    }
  },
  "cells": [
    {
      "cell_type": "markdown",
      "metadata": {
        "id": "view-in-github",
        "colab_type": "text"
      },
      "source": [
        "<a href=\"https://colab.research.google.com/github/lupis30puc/big_data_practice/blob/master/agpt_6_Linked_List_Todo.ipynb\" target=\"_parent\"><img src=\"https://colab.research.google.com/assets/colab-badge.svg\" alt=\"Open In Colab\"/></a>"
      ]
    },
    {
      "cell_type": "markdown",
      "metadata": {
        "id": "um8DCCgppMX6"
      },
      "source": [
        "# Linked List"
      ]
    },
    {
      "cell_type": "markdown",
      "metadata": {
        "id": "kPgoA2QipMX7"
      },
      "source": [
        "![Linked List](https://cdncontribute.geeksforgeeks.org/wp-content/uploads/Linkedlist-2.png)\n",
        "\n",
        "See https://yongdanielliang.github.io/animation/web/LinkedList.html for an animation."
      ]
    },
    {
      "cell_type": "code",
      "metadata": {
        "id": "4_y9LpTnpMX8"
      },
      "source": [
        "class Element:\n",
        "    def __init__(self, data):\n",
        "        self.data = data\n",
        "        self.next = None"
      ],
      "execution_count": null,
      "outputs": []
    },
    {
      "cell_type": "code",
      "metadata": {
        "id": "RGPGkZp_pMYB"
      },
      "source": [
        "class LinkedList:\n",
        "    def __init__(self, head=None):\n",
        "        #self.data = []\n",
        "        self.head = head\n",
        "        #do we need to quote the class element??\n",
        "        \n",
        "    def append(self, new_element):\n",
        "        \"\"\"Append the new element at the end of the list.\n",
        "        if there is no element yet in the list, it is the head element.\"\"\"\n",
        "        #self.data.append(new_element)\n",
        "        current = self.head\n",
        "        if self.head:\n",
        "            while current.next:\n",
        "                current = current.next\n",
        "            current.next = new_element\n",
        "        else:\n",
        "            self.head = new_element\n",
        "\n",
        "    \n",
        "    def get_position(self, position):\n",
        "        \"\"\"Get an element from a particular position.\n",
        "        Assume the first position is the index \"1\".\n",
        "        Return \"None\" if position is not in the list.\"\"\"\n",
        "        #if self.data[position-1] in self.data:\n",
        "        #    return self.data[position-1]\n",
        "        #elif self.data[position-1] not in self.data:\n",
        "        #    return None\n",
        "        \n",
        "        counter = 1\n",
        "        current = self.head\n",
        "\n",
        "        if position < 1:\n",
        "            return None\n",
        "        \n",
        "        while current and counter <= position:\n",
        "            if counter == position:\n",
        "                return current\n",
        "            current = current.next\n",
        "            counter += 1\n",
        "        return None\n",
        "        \n",
        "    def insert(self, new_element, position):\n",
        "        \"\"\"Insert a new node at the given position.\n",
        "        Assume the first position is \"1\".\n",
        "        Inserting at position 3 means between the 2nd and 3rd elements.\"\"\"\n",
        "        #index = position - 1\n",
        "        #part_1 = self.data[:index]\n",
        "        #part_2 = self[index:]\n",
        "        #part_1.append(new_element)\n",
        "        #print(part_1)\n",
        "        #for i in range(len(part_2)):\n",
        "         #   part_1.append(part_2[i])\n",
        "        #return self.head = part_1\n",
        "        \n",
        "        counter = 1\n",
        "        current = self.head\n",
        "\n",
        "        if position == 1:\n",
        "            new_element.next = self.head\n",
        "            self.head = new_element\n",
        "        elif position > 1:\n",
        "            while current and counter < position:\n",
        "                if counter == position - 1:\n",
        "                    new_element.next = current.next\n",
        "                    current.next = new_element\n",
        "                current = current.next\n",
        "                counter += 1\n",
        "    \n",
        "    def delete(self, data):\n",
        "        \"\"\"Delete the first node with a given value.\"\"\"\n",
        "        #del self.data[0] \n",
        "        current = self.head\n",
        "        previous = None\n",
        "\n",
        "        while current.data != data and current.next:\n",
        "            previous = current\n",
        "            current = current.next\n",
        "        if current.data == data:\n",
        "            if previous:\n",
        "                previous.next = current.next\n",
        "            else:\n",
        "                self.head = current.next\n",
        "    "
      ],
      "execution_count": null,
      "outputs": []
    },
    {
      "cell_type": "code",
      "metadata": {
        "id": "ADy9zsY-pMYE",
        "outputId": "228910e7-5656-418d-b135-cb41d3bdd20f"
      },
      "source": [
        "prueba = ['a', 'b', 'c', 'd', 'e', 'f']\n",
        "parte_1 = prueba[:2]\n",
        "parte_2 = prueba[2:]\n",
        "print(parte_1)\n",
        "print(parte_2)\n",
        "parte_1.append('w')\n",
        "for i in range(len(parte_2)):\n",
        "    parte_1.append(parte_2[i])\n",
        "print(parte_1)\n",
        "prueba = parte_1\n",
        "print(prueba)"
      ],
      "execution_count": null,
      "outputs": [
        {
          "output_type": "stream",
          "text": [
            "['a', 'b']\n",
            "['c', 'd', 'e', 'f']\n",
            "['a', 'b', 'w', 'c', 'd', 'e', 'f']\n",
            "['a', 'b', 'w', 'c', 'd', 'e', 'f']\n"
          ],
          "name": "stdout"
        }
      ]
    },
    {
      "cell_type": "code",
      "metadata": {
        "id": "0jqhHFB-pMYK",
        "outputId": "9b3e4c5d-fe80-495c-a3c6-3d4b66b946ac"
      },
      "source": [
        "parte_1[6] = 'z'\n",
        "print(parte_1)"
      ],
      "execution_count": null,
      "outputs": [
        {
          "output_type": "stream",
          "text": [
            "['a', 'b', 'w', 'c', 'd', 'e', 'z']\n"
          ],
          "name": "stdout"
        }
      ]
    },
    {
      "cell_type": "code",
      "metadata": {
        "id": "rOCSO7IopMYO"
      },
      "source": [
        "# Test cases\n",
        "# Set up some Elements\n",
        "e1 = Element(1)\n",
        "e2 = Element(2)\n",
        "e3 = Element(3)\n",
        "e4 = Element(4)\n",
        "\n",
        "# Start setting up a LinkedList\n",
        "llist = LinkedList()\n",
        "llist.append(e1)\n",
        "llist.append(e2)\n",
        "llist.append(e3)"
      ],
      "execution_count": null,
      "outputs": []
    },
    {
      "cell_type": "code",
      "metadata": {
        "id": "RJV3PD__pMYS",
        "outputId": "026a9bb4-1233-4357-a379-5898ed33d7d3"
      },
      "source": [
        "# Test if appends were correct\n",
        "# Should be 3\n",
        "print(llist.head.next.next.data)\n",
        "#print(llist)"
      ],
      "execution_count": null,
      "outputs": [
        {
          "output_type": "stream",
          "text": [
            "3\n"
          ],
          "name": "stdout"
        }
      ]
    },
    {
      "cell_type": "code",
      "metadata": {
        "id": "-kd1Jh0apMYW",
        "outputId": "2254195a-f757-45ef-af61-1b0977eaad6e"
      },
      "source": [
        "# Test get_position\n",
        "# Should also be 3\n",
        "print(llist.get_position(3).data)"
      ],
      "execution_count": null,
      "outputs": [
        {
          "output_type": "stream",
          "text": [
            "3\n"
          ],
          "name": "stdout"
        }
      ]
    },
    {
      "cell_type": "code",
      "metadata": {
        "id": "ScgujCNapMYd",
        "outputId": "b36ce86b-47a3-4543-abd9-b49ff68ae844"
      },
      "source": [
        "# Test insert\n",
        "llist.insert(e4,3)\n",
        "# Should print 4 now\n",
        "print(llist.get_position(3).data)"
      ],
      "execution_count": null,
      "outputs": [
        {
          "output_type": "stream",
          "text": [
            "4\n"
          ],
          "name": "stdout"
        }
      ]
    },
    {
      "cell_type": "code",
      "metadata": {
        "id": "VTGbvzo3pMYg",
        "outputId": "4cdb1ff4-a968-41d4-d7d1-a36c24b7c22e"
      },
      "source": [
        "# Test delete\n",
        "llist.delete(1)\n",
        "# Should print 2 now\n",
        "print(llist.get_position(1).data)\n",
        "# Should print 4 now\n",
        "print(llist.get_position(2).data)\n",
        "# Should print 3 now\n",
        "print(llist.get_position(3).data)"
      ],
      "execution_count": null,
      "outputs": [
        {
          "output_type": "stream",
          "text": [
            "2\n",
            "4\n",
            "3\n"
          ],
          "name": "stdout"
        }
      ]
    },
    {
      "cell_type": "code",
      "metadata": {
        "id": "yIvUmmpUpMYk"
      },
      "source": [
        "#AUTOMATED TESTING IS HOW DEVELOPERS ARE CHECKING THEIR CODE!"
      ],
      "execution_count": null,
      "outputs": []
    },
    {
      "cell_type": "code",
      "metadata": {
        "id": "B2AArHe8njMt"
      },
      "source": [
        ""
      ],
      "execution_count": null,
      "outputs": []
    }
  ]
}