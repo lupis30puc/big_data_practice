{
 "cells": [
  {
   "cell_type": "markdown",
   "metadata": {},
   "source": [
    "# MongoDB\n",
    "\n",
    "Based on https://docs.mongodb.com/getting-started \n"
   ]
  },
  {
   "cell_type": "markdown",
   "metadata": {},
   "source": [
    "MongoDB is a **NoSQL** open-source **document database**.  MongoDB provides horizontal scaling by replicating and partitioning the data over multiple nodes. This can improve the reliability and scalability of the system.\n",
    "\n",
    "A record in MongoDB is a **document**, which is a data structure composed of field and value pairs. MongoDB documents are similar to JSON objects or Python dictionaries. The values of fields may include other documents, arrays, and arrays of documents.\n",
    "\n",
    "This is an example of a document:\n",
    "```JSON\n",
    "{\n",
    "   \"_id\" : ObjectId(\"54c955492b7c8eb21818bd09\"),\n",
    "   \"address\" : {\n",
    "      \"street\" : \"2 Avenue\",\n",
    "      \"zipcode\" : \"10075\",\n",
    "      \"building\" : \"1480\",\n",
    "      \"coord\" : [ -73.9557413, 40.7720266 ]\n",
    "   },\n",
    "   \"borough\" : \"Manhattan\",\n",
    "   \"cuisine\" : \"Italian\",\n",
    "   \"grades\" : [\n",
    "      {\n",
    "         \"date\" : ISODate(\"2014-10-01T00:00:00Z\"),\n",
    "         \"grade\" : \"A\",\n",
    "         \"score\" : 11\n",
    "      },\n",
    "      {\n",
    "         \"date\" : ISODate(\"2014-01-16T00:00:00Z\"),\n",
    "         \"grade\" : \"B\",\n",
    "         \"score\" : 17\n",
    "      }\n",
    "   ],\n",
    "   \"name\" : \"Vella\",\n",
    "   \"restaurant_id\" : \"41704620\"\n",
    "}\n",
    "```\n",
    "In MongoDB, documents have a unique **_id** field that acts as a primary key. MongoDB automatically adds a unique _id to each document if you are not providing it by yourself.\n",
    "\n",
    "MongoDB stores documents in **collections**. Collections are analogous to tables in relational databases. Unlike a table, however, a collection does not require its documents to have the same schema.\n",
    "\n",
    "You can start a Docker image with MongoDB like this:\n",
    "```bash\n",
    "docker run -p 27017:27017 -d mongo:4.0-xenial\n",
    "```\n",
    "\n",
    "In production you really (!) would need to enable authentication with username and password, but for development purposes this is fine."
   ]
  },
  {
   "cell_type": "code",
   "execution_count": 1,
   "metadata": {},
   "outputs": [
    {
     "name": "stdout",
     "output_type": "stream",
     "text": [
      "Requirement already satisfied: pymongo in /Users/angelapuc/anaconda3/lib/python3.7/site-packages (3.10.1)\r\n"
     ]
    }
   ],
   "source": [
    "# Install the pymongo Python Package \n",
    "!pip3 install pymongo"
   ]
  },
  {
   "cell_type": "code",
   "execution_count": 1,
   "metadata": {},
   "outputs": [],
   "source": [
    "from pymongo import MongoClient\n",
    "from pprint import pprint\n",
    "import requests "
   ]
  },
  {
   "cell_type": "markdown",
   "metadata": {},
   "source": [
    "Use MongoClient to create a connection. If you do not specify any arguments to MongoClient, then MongoClient defaults to the MongoDB instance that runs on the localhost interface on port 27017. You can also specify a complete MongoDB URI to define the connection, including explicitly specifying the host and port number. For example, the following creates a connection to a MongoDB instance that runs on mongodb0.example.net and the port of 27017: client = MongoClient(\"mongodb://mongodb0.example.net:27017\")"
   ]
  },
  {
   "cell_type": "code",
   "execution_count": 2,
   "metadata": {},
   "outputs": [],
   "source": [
    "# Client connects to \"localhost\" by default \n",
    "client = MongoClient()\n",
    "#127.0.0.1"
   ]
  },
  {
   "cell_type": "markdown",
   "metadata": {},
   "source": [
    "The first fundamental class of objects you will interact with using pymongo is Database which represents the database construct in MongoDB. Databases hold groups of logically related collections. MongoDB creates new databases implicitly upon their first use. Connect (create) with a database of your name, e.g. \n",
    "\n",
    "```python\n",
    "db = client[\"rolandmueller\"]\n",
    "``` \n",
    "or \n",
    "\n",
    "```python\n",
    "db = client.rolandmueller\n",
    "```"
   ]
  },
  {
   "cell_type": "code",
   "execution_count": 3,
   "metadata": {},
   "outputs": [],
   "source": [
    "# Create local \"bipm\" database on the fly \n",
    "db = client['bipm']"
   ]
  },
  {
   "cell_type": "code",
   "execution_count": 17,
   "metadata": {},
   "outputs": [],
   "source": [
    "# When we rerun the whole notebook, we start from scratch \n",
    "# by dropping the colection \"courses\"\n",
    "db.courses.drop()"
   ]
  },
  {
   "cell_type": "code",
   "execution_count": 18,
   "metadata": {},
   "outputs": [],
   "source": [
    "# Create a Python Dictonary\n",
    "courses = [\n",
    "    {'title': 'Data Science',\n",
    "     'lecturer': {\n",
    "         'name': 'Markus Löcher',\n",
    "         'department': 'Math',\n",
    "         'status': 'Professor'\n",
    "     },\n",
    "     'semester': 1},\n",
    "    {'title': 'Data Warehousing',\n",
    "     'lecturer': {\n",
    "         'name': 'Roland M. Mueller',\n",
    "         'department': 'Information Systems',\n",
    "         'status': 'Professor'\n",
    "     },\n",
    "     'semester': 1},\n",
    "    {'title': 'Business Process Management',\n",
    "     'lecturer': {\n",
    "         'name': 'Frank Habermann',\n",
    "         'department': 'Information Systems',\n",
    "         'status': 'Professor'\n",
    "     },\n",
    "     'semester': 1},\n",
    "    {'title': 'Stratigic Issues of IT',\n",
    "     'lecturer': {\n",
    "         'name': 'Sven Pohland',\n",
    "         'department': 'Information Systems',\n",
    "         'status': 'Professor'\n",
    "     },\n",
    "     'semester': 1},\n",
    "    {'title': 'Text, Web and Social Media Analytics Lab',\n",
    "     'lecturer': {\n",
    "         'name': 'Markus Löcher',\n",
    "         'department': 'Math',\n",
    "         'status': 'Professor'\n",
    "     },\n",
    "     'semester': 2},\n",
    "    {'title': 'Enterprise Architectures for Big Data',\n",
    "     'lecturer': {\n",
    "         'name': 'Roland M. Mueller',\n",
    "         'department': 'Information Systems',\n",
    "         'status': 'Professor'\n",
    "     },\n",
    "     'semester': 2},\n",
    "    {'title': 'Business Process Integration Lab',\n",
    "     'lecturer': {\n",
    "         'name': 'Frank Habermann',\n",
    "         'department': 'Information Systems',\n",
    "         'status': 'Professor'\n",
    "     },\n",
    "     'semester': 2},\n",
    "    {'title': 'IT-Security and Privacy',\n",
    "     'lecturer': {\n",
    "         'name': 'Dennis Uckel',\n",
    "         'department': 'Information Systems',\n",
    "         'status': 'External'\n",
    "     },\n",
    "     'semester': 2},\n",
    "    {'title': 'Research Methods',\n",
    "     'lecturer': {\n",
    "         'name': 'Marcus Birkenkrahe',\n",
    "         'department': 'Information Systems',\n",
    "         'status': 'Professor'\n",
    "     },\n",
    "     'semester': 2},\n",
    "]"
   ]
  },
  {
   "cell_type": "code",
   "execution_count": 19,
   "metadata": {},
   "outputs": [
    {
     "name": "stdout",
     "output_type": "stream",
     "text": [
      "[{'lecturer': {'department': 'Math',\n",
      "               'name': 'Markus Löcher',\n",
      "               'status': 'Professor'},\n",
      "  'semester': 1,\n",
      "  'title': 'Data Science'},\n",
      " {'lecturer': {'department': 'Information Systems',\n",
      "               'name': 'Roland M. Mueller',\n",
      "               'status': 'Professor'},\n",
      "  'semester': 1,\n",
      "  'title': 'Data Warehousing'},\n",
      " {'lecturer': {'department': 'Information Systems',\n",
      "               'name': 'Frank Habermann',\n",
      "               'status': 'Professor'},\n",
      "  'semester': 1,\n",
      "  'title': 'Business Process Management'},\n",
      " {'lecturer': {'department': 'Information Systems',\n",
      "               'name': 'Sven Pohland',\n",
      "               'status': 'Professor'},\n",
      "  'semester': 1,\n",
      "  'title': 'Stratigic Issues of IT'},\n",
      " {'lecturer': {'department': 'Math',\n",
      "               'name': 'Markus Löcher',\n",
      "               'status': 'Professor'},\n",
      "  'semester': 2,\n",
      "  'title': 'Text, Web and Social Media Analytics Lab'},\n",
      " {'lecturer': {'department': 'Information Systems',\n",
      "               'name': 'Roland M. Mueller',\n",
      "               'status': 'Professor'},\n",
      "  'semester': 2,\n",
      "  'title': 'Enterprise Architectures for Big Data'},\n",
      " {'lecturer': {'department': 'Information Systems',\n",
      "               'name': 'Frank Habermann',\n",
      "               'status': 'Professor'},\n",
      "  'semester': 2,\n",
      "  'title': 'Business Process Integration Lab'},\n",
      " {'lecturer': {'department': 'Information Systems',\n",
      "               'name': 'Dennis Uckel',\n",
      "               'status': 'External'},\n",
      "  'semester': 2,\n",
      "  'title': 'IT-Security and Privacy'},\n",
      " {'lecturer': {'department': 'Information Systems',\n",
      "               'name': 'Marcus Birkenkrahe',\n",
      "               'status': 'Professor'},\n",
      "  'semester': 2,\n",
      "  'title': 'Research Methods'}]\n"
     ]
    }
   ],
   "source": [
    "pprint(courses)"
   ]
  },
  {
   "cell_type": "markdown",
   "metadata": {},
   "source": [
    "## insert_many()\n",
    "\n",
    "You can use the `insert_one()` method and the `insert_many()` method to add documents to a collection in MongoDB. If you attempt to add documents to a collection that does not exist, MongoDB will create the collection for you."
   ]
  },
  {
   "cell_type": "code",
   "execution_count": 20,
   "metadata": {},
   "outputs": [
    {
     "data": {
      "text/plain": [
       "<pymongo.results.InsertManyResult at 0x10621d388>"
      ]
     },
     "execution_count": 20,
     "metadata": {},
     "output_type": "execute_result"
    }
   ],
   "source": [
    "db.courses.insert_many(courses)"
   ]
  },
  {
   "cell_type": "markdown",
   "metadata": {},
   "source": [
    "## find()\n",
    "\n",
    "You can use the find() method to issue a query to retrieve data from a collection in MongoDB. All queries in MongoDB have the scope of a single collection.\n",
    "Queries can return all documents in a collection or only the documents that match a specified filter or criteria. You can specify the filter or criteria in a document and pass as a parameter to the find() method. With no parameter, find() returns all documents in the collection.\n",
    "\n",
    "The find() method returns query results in a cursor, which is an iterable object that yields documents. Then you can print all documents.\n",
    "\n",
    "```python\n",
    "cursor = db.my_collection.find()\n",
    "\n",
    "for document in cursor:\n",
    "    pprint(document)\n",
    "```\n"
   ]
  },
  {
   "cell_type": "code",
   "execution_count": 21,
   "metadata": {},
   "outputs": [
    {
     "name": "stdout",
     "output_type": "stream",
     "text": [
      "{'_id': ObjectId('5ed9299b52df1b53c0857279'),\n",
      " 'lecturer': {'department': 'Math',\n",
      "              'name': 'Markus Löcher',\n",
      "              'status': 'Professor'},\n",
      " 'semester': 1,\n",
      " 'title': 'Data Science'}\n",
      "{'_id': ObjectId('5ed9299b52df1b53c085727a'),\n",
      " 'lecturer': {'department': 'Information Systems',\n",
      "              'name': 'Roland M. Mueller',\n",
      "              'status': 'Professor'},\n",
      " 'semester': 1,\n",
      " 'title': 'Data Warehousing'}\n",
      "{'_id': ObjectId('5ed9299b52df1b53c085727b'),\n",
      " 'lecturer': {'department': 'Information Systems',\n",
      "              'name': 'Frank Habermann',\n",
      "              'status': 'Professor'},\n",
      " 'semester': 1,\n",
      " 'title': 'Business Process Management'}\n",
      "{'_id': ObjectId('5ed9299b52df1b53c085727c'),\n",
      " 'lecturer': {'department': 'Information Systems',\n",
      "              'name': 'Sven Pohland',\n",
      "              'status': 'Professor'},\n",
      " 'semester': 1,\n",
      " 'title': 'Stratigic Issues of IT'}\n",
      "{'_id': ObjectId('5ed9299b52df1b53c085727d'),\n",
      " 'lecturer': {'department': 'Math',\n",
      "              'name': 'Markus Löcher',\n",
      "              'status': 'Professor'},\n",
      " 'semester': 2,\n",
      " 'title': 'Text, Web and Social Media Analytics Lab'}\n",
      "{'_id': ObjectId('5ed9299b52df1b53c085727e'),\n",
      " 'lecturer': {'department': 'Information Systems',\n",
      "              'name': 'Roland M. Mueller',\n",
      "              'status': 'Professor'},\n",
      " 'semester': 2,\n",
      " 'title': 'Enterprise Architectures for Big Data'}\n",
      "{'_id': ObjectId('5ed9299b52df1b53c085727f'),\n",
      " 'lecturer': {'department': 'Information Systems',\n",
      "              'name': 'Frank Habermann',\n",
      "              'status': 'Professor'},\n",
      " 'semester': 2,\n",
      " 'title': 'Business Process Integration Lab'}\n",
      "{'_id': ObjectId('5ed9299b52df1b53c0857280'),\n",
      " 'lecturer': {'department': 'Information Systems',\n",
      "              'name': 'Dennis Uckel',\n",
      "              'status': 'External'},\n",
      " 'semester': 2,\n",
      " 'title': 'IT-Security and Privacy'}\n",
      "{'_id': ObjectId('5ed9299b52df1b53c0857281'),\n",
      " 'lecturer': {'department': 'Information Systems',\n",
      "              'name': 'Marcus Birkenkrahe',\n",
      "              'status': 'Professor'},\n",
      " 'semester': 2,\n",
      " 'title': 'Research Methods'}\n"
     ]
    }
   ],
   "source": [
    "# TODO: Print all courses\n",
    "cursor = db.courses.find()\n",
    "\n",
    "for doc in cursor:\n",
    "    pprint(doc)"
   ]
  },
  {
   "cell_type": "markdown",
   "metadata": {},
   "source": [
    "## JSON\n",
    "\n",
    "You can store a JSON document if you convert it before to a Python dictionary:"
   ]
  },
  {
   "cell_type": "code",
   "execution_count": 22,
   "metadata": {},
   "outputs": [
    {
     "data": {
      "text/plain": [
       "{'title': 'Master Thesis', 'semester': 3}"
      ]
     },
     "execution_count": 22,
     "metadata": {},
     "output_type": "execute_result"
    }
   ],
   "source": [
    "import json\n",
    "my_json = '{\"title\": \"Master Thesis\", \"semester\": 3}'\n",
    "another_course = json.loads(my_json)\n",
    "another_course"
   ]
  },
  {
   "cell_type": "markdown",
   "metadata": {},
   "source": [
    "## insert_one()\n",
    "\n",
    "The `insert_one()` method adds the document into the collection.\n"
   ]
  },
  {
   "cell_type": "code",
   "execution_count": 23,
   "metadata": {},
   "outputs": [
    {
     "data": {
      "text/plain": [
       "<pymongo.results.InsertOneResult at 0x106387f88>"
      ]
     },
     "execution_count": 23,
     "metadata": {},
     "output_type": "execute_result"
    }
   ],
   "source": [
    "# TODO: Store `another_course` as another course:\n",
    "\n",
    "db.courses.insert_one(another_course)"
   ]
  },
  {
   "cell_type": "code",
   "execution_count": 24,
   "metadata": {},
   "outputs": [
    {
     "name": "stdout",
     "output_type": "stream",
     "text": [
      "{'_id': ObjectId('5ed9299b52df1b53c0857279'),\n",
      " 'lecturer': {'department': 'Math',\n",
      "              'name': 'Markus Löcher',\n",
      "              'status': 'Professor'},\n",
      " 'semester': 1,\n",
      " 'title': 'Data Science'}\n",
      "{'_id': ObjectId('5ed9299b52df1b53c085727a'),\n",
      " 'lecturer': {'department': 'Information Systems',\n",
      "              'name': 'Roland M. Mueller',\n",
      "              'status': 'Professor'},\n",
      " 'semester': 1,\n",
      " 'title': 'Data Warehousing'}\n",
      "{'_id': ObjectId('5ed9299b52df1b53c085727b'),\n",
      " 'lecturer': {'department': 'Information Systems',\n",
      "              'name': 'Frank Habermann',\n",
      "              'status': 'Professor'},\n",
      " 'semester': 1,\n",
      " 'title': 'Business Process Management'}\n",
      "{'_id': ObjectId('5ed9299b52df1b53c085727c'),\n",
      " 'lecturer': {'department': 'Information Systems',\n",
      "              'name': 'Sven Pohland',\n",
      "              'status': 'Professor'},\n",
      " 'semester': 1,\n",
      " 'title': 'Stratigic Issues of IT'}\n",
      "{'_id': ObjectId('5ed9299b52df1b53c085727d'),\n",
      " 'lecturer': {'department': 'Math',\n",
      "              'name': 'Markus Löcher',\n",
      "              'status': 'Professor'},\n",
      " 'semester': 2,\n",
      " 'title': 'Text, Web and Social Media Analytics Lab'}\n",
      "{'_id': ObjectId('5ed9299b52df1b53c085727e'),\n",
      " 'lecturer': {'department': 'Information Systems',\n",
      "              'name': 'Roland M. Mueller',\n",
      "              'status': 'Professor'},\n",
      " 'semester': 2,\n",
      " 'title': 'Enterprise Architectures for Big Data'}\n",
      "{'_id': ObjectId('5ed9299b52df1b53c085727f'),\n",
      " 'lecturer': {'department': 'Information Systems',\n",
      "              'name': 'Frank Habermann',\n",
      "              'status': 'Professor'},\n",
      " 'semester': 2,\n",
      " 'title': 'Business Process Integration Lab'}\n",
      "{'_id': ObjectId('5ed9299b52df1b53c0857280'),\n",
      " 'lecturer': {'department': 'Information Systems',\n",
      "              'name': 'Dennis Uckel',\n",
      "              'status': 'External'},\n",
      " 'semester': 2,\n",
      " 'title': 'IT-Security and Privacy'}\n",
      "{'_id': ObjectId('5ed9299b52df1b53c0857281'),\n",
      " 'lecturer': {'department': 'Information Systems',\n",
      "              'name': 'Marcus Birkenkrahe',\n",
      "              'status': 'Professor'},\n",
      " 'semester': 2,\n",
      " 'title': 'Research Methods'}\n",
      "{'_id': ObjectId('5ed929a552df1b53c0857282'),\n",
      " 'semester': 3,\n",
      " 'title': 'Master Thesis'}\n"
     ]
    }
   ],
   "source": [
    "# TODO: Print all courses\n",
    "cursor = db.courses.find()\n",
    "\n",
    "for doc in cursor:\n",
    "    pprint(doc)"
   ]
  },
  {
   "cell_type": "markdown",
   "metadata": {},
   "source": [
    "## find_one() and find()\n",
    "\n",
    "`find_one()` returns the first match. ```find()```returns all matches.\n",
    "\n",
    "The query condition for `find_one()` and `find()` for an equality match on fields has the following form:\n",
    "```python\n",
    "{ <field1>: <value1>, <field2>: <value2>, ... } \n",
    "```\n",
    "\n",
    "The following operation finds the first documents whose name field equals \"Manhattan\".\n",
    "\n",
    "```python\n",
    "cursor = db.restaurants.find_one({\"name\": \"Manhattan\"})\n",
    "```\n"
   ]
  },
  {
   "cell_type": "code",
   "execution_count": 25,
   "metadata": {},
   "outputs": [
    {
     "name": "stdout",
     "output_type": "stream",
     "text": [
      "{'_id': ObjectId('5ed9299b52df1b53c0857279'),\n",
      " 'lecturer': {'department': 'Math',\n",
      "              'name': 'Markus Löcher',\n",
      "              'status': 'Professor'},\n",
      " 'semester': 1,\n",
      " 'title': 'Data Science'}\n"
     ]
    }
   ],
   "source": [
    "# TODO: Find the course with the title \"Data Science\" \n",
    "# save the result in a varibale result\n",
    "# and pprint the result.\n",
    "result = db.courses.find_one({'title': 'Data Science'})\n",
    "pprint(result)"
   ]
  },
  {
   "cell_type": "code",
   "execution_count": 26,
   "metadata": {},
   "outputs": [
    {
     "name": "stdout",
     "output_type": "stream",
     "text": [
      "5ed9299b52df1b53c0857279\n",
      "Markus Löcher\n"
     ]
    }
   ],
   "source": [
    "print(result[\"_id\"])\n",
    "print(result[\"lecturer\"][\"name\"])"
   ]
  },
  {
   "cell_type": "code",
   "execution_count": 27,
   "metadata": {},
   "outputs": [
    {
     "name": "stdout",
     "output_type": "stream",
     "text": [
      "Text, Web and Social Media Analytics Lab\n"
     ]
    }
   ],
   "source": [
    "# TODO: Find the first course (one course) in the second semester\n",
    "# and print it\n",
    "result2 = db.courses.find_one({'semester': 2})\n",
    "print(result2[\"title\"])"
   ]
  },
  {
   "cell_type": "code",
   "execution_count": 28,
   "metadata": {},
   "outputs": [
    {
     "name": "stdout",
     "output_type": "stream",
     "text": [
      "Text, Web and Social Media Analytics Lab\n",
      "Enterprise Architectures for Big Data\n",
      "Business Process Integration Lab\n",
      "IT-Security and Privacy\n",
      "Research Methods\n"
     ]
    }
   ],
   "source": [
    "# TODO: Find all courses in the second semester\n",
    "# and print the course titles\n",
    "result2 = db.courses.find({'semester': 2})\n",
    "\n",
    "for doc in result2:\n",
    "    print(doc[\"title\"])"
   ]
  },
  {
   "cell_type": "code",
   "execution_count": 29,
   "metadata": {},
   "outputs": [
    {
     "name": "stdout",
     "output_type": "stream",
     "text": [
      "Markus Löcher\n",
      "Roland M. Mueller\n",
      "Frank Habermann\n",
      "Dennis Uckel\n",
      "Marcus Birkenkrahe\n"
     ]
    }
   ],
   "source": [
    "# TODO: Find all courses in the second semester\n",
    "# and print the lecturers names\n",
    "result2 = db.courses.find({'semester': 2})\n",
    "\n",
    "for doc in result2:\n",
    "    print(doc[\"lecturer\"][\"name\"])"
   ]
  },
  {
   "cell_type": "markdown",
   "metadata": {},
   "source": [
    "## Subelements\n",
    "\n",
    "Sometimes documents contains embedded documents as its elements. To specify a condition on a field in these documents, use the dot notation. Dot notation requires quotes around the whole dotted field name. The following queries for documents whose grades array contains an embedded document with a field grade equal to \"B\".\n",
    "\n",
    "```python\n",
    "cursor = db.restaurants.find({\"grades.grade\": \"B\"})\n",
    "```"
   ]
  },
  {
   "cell_type": "code",
   "execution_count": 30,
   "metadata": {},
   "outputs": [
    {
     "name": "stdout",
     "output_type": "stream",
     "text": [
      "Business Process Management\n",
      "1\n",
      "Business Process Integration Lab\n",
      "2\n"
     ]
    }
   ],
   "source": [
    "# TODO: Find all courses of Frank Habermann\n",
    "# and print the title and the semester\n",
    "result3 = db.courses.find({'lecturer.name': 'Frank Habermann'})\n",
    "\n",
    "for doc in result3:\n",
    "    print(doc[\"title\"])\n",
    "    print(doc[\"semester\"])"
   ]
  },
  {
   "cell_type": "markdown",
   "metadata": {},
   "source": [
    "## Logical AND\n",
    "\n",
    "You can specify a logical conjunction (AND) for a list of query conditions by separating the conditions with a comma in the conditions document.\n",
    "\n",
    "```python\n",
    "cursor = db.restaurants.find({\"cuisine\": \"Italian\", \"address.zipcode\": \"10075\"})\n",
    "```"
   ]
  },
  {
   "cell_type": "code",
   "execution_count": 31,
   "metadata": {},
   "outputs": [
    {
     "name": "stdout",
     "output_type": "stream",
     "text": [
      "Business Process Integration Lab\n",
      "2\n"
     ]
    }
   ],
   "source": [
    "# TODO: Find all courses from Frank Habermann in the second semester\n",
    "# and print the title and the semester\n",
    "result4 = db.courses.find({'lecturer.name': 'Frank Habermann', \"semester\": 2})\n",
    "\n",
    "for doc in result4:\n",
    "    print(doc[\"title\"])\n",
    "    print(doc[\"semester\"])"
   ]
  },
  {
   "cell_type": "markdown",
   "metadata": {},
   "source": [
    "## Logical OR\n",
    "\n",
    "You can specify a logical disjunction (OR) for a list of query conditions by using the $or query operator.\n",
    "\n",
    "```python\n",
    "cursor = db.restaurants.find({\"$or\": [{\"cuisine\": \"Italian\"}, {\"address.zipcode\": \"10075\"}]})\n",
    "```\n"
   ]
  },
  {
   "cell_type": "code",
   "execution_count": 32,
   "metadata": {
    "scrolled": true
   },
   "outputs": [
    {
     "name": "stdout",
     "output_type": "stream",
     "text": [
      "Data Science\n",
      "1\n",
      "Business Process Management\n",
      "1\n",
      "Text, Web and Social Media Analytics Lab\n",
      "2\n",
      "Business Process Integration Lab\n",
      "2\n"
     ]
    }
   ],
   "source": [
    "# TODO: Find all courses from Frank Habermann or Markus Löcher\n",
    "# and print the title and the semester\n",
    "result5 = db.courses.find({\"$or\": [{'lecturer.name': 'Frank Habermann'}, {'lecturer.name': 'Markus Löcher'}]})\n",
    "\n",
    "for doc in result5:\n",
    "    print(doc[\"title\"])\n",
    "    print(doc[\"semester\"])"
   ]
  },
  {
   "cell_type": "markdown",
   "metadata": {},
   "source": [
    "## Greater than, Less than\n",
    "\n",
    "MongoDB provides operators to specify query conditions, such as comparison operators. Query conditions using operators generally have the following form:\n",
    "```python\n",
    "{ <field1>: { <operator1>: <value1> } }\n",
    "```\n",
    "\n",
    "Greater Than Operator (`$gt`). Query for documents whose grades array contains an embedded document with a field score greater than 30.\n",
    "\n",
    "```python\n",
    "cursor = db.restaurants.find({\"grades.score\": {\"$gt\": 30}})\n",
    "```\n",
    "\n",
    "Less Than Operator (`$lt`). Query for documents whose grades array contains an embedded document with a field score less than 10.\n",
    "\n",
    "```python\n",
    "cursor = db.restaurants.find({\"grades.score\": {\"$lt\": 10}})\n",
    "```\n",
    "\n"
   ]
  },
  {
   "cell_type": "code",
   "execution_count": 33,
   "metadata": {
    "scrolled": true
   },
   "outputs": [
    {
     "name": "stdout",
     "output_type": "stream",
     "text": [
      "Text, Web and Social Media Analytics Lab\n",
      "2\n",
      "Enterprise Architectures for Big Data\n",
      "2\n",
      "Business Process Integration Lab\n",
      "2\n",
      "IT-Security and Privacy\n",
      "2\n",
      "Research Methods\n",
      "2\n",
      "Master Thesis\n",
      "3\n"
     ]
    }
   ],
   "source": [
    "# TODO: Find all courses in semester greater than 1\n",
    "# and print the title and the semester\n",
    "result6 = db.courses.find({'semester': {\"$gt\": 1}})\n",
    "\n",
    "for doc in result6:\n",
    "    print(doc[\"title\"])\n",
    "    print(doc[\"semester\"])"
   ]
  },
  {
   "cell_type": "markdown",
   "metadata": {},
   "source": [
    "## Counting\n",
    "\n",
    "`count_documents()` works like `find()` but returns the number of matched documents-"
   ]
  },
  {
   "cell_type": "code",
   "execution_count": 34,
   "metadata": {},
   "outputs": [
    {
     "name": "stdout",
     "output_type": "stream",
     "text": [
      "5\n"
     ]
    }
   ],
   "source": [
    "# TODO: How many courses are in the second semester?\n",
    "result7 = db.courses.count_documents({'semester': 2})\n",
    "\n",
    "print(result7)"
   ]
  },
  {
   "cell_type": "markdown",
   "metadata": {},
   "source": [
    "# Downloading Nobel Prize Winners with an API and storing them in MongoDB\n",
    "\n",
    "![](https://upload.wikimedia.org/wikipedia/en/e/ed/Nobel_Prize.png)\n",
    "The Nobel Prize offers a Web API https://nobelprize.readme.io/docs/prize\n",
    "\n",
    "Because the API is giving us JSON and MongoDB is able to store documents in a JSON-like format, using a document database like MongoDB seems like a good fit to store the results of the API.  You can get all laureates at http://api.nobelprize.org/v1/laureate.json and all prizes at http://api.nobelprize.org/v1/prize.json\n",
    "\n",
    "We will just download all laureates and prizes and store them in MongoDB!"
   ]
  },
  {
   "cell_type": "code",
   "execution_count": 35,
   "metadata": {},
   "outputs": [],
   "source": [
    "# Create local \"nobel\" database on the fly \n",
    "db = client[\"nobel\"]\n",
    "db.prizes.drop()\n",
    "db.laureates.drop()\n",
    "# API documented at https://nobelprize.readme.io/docs/prize \n",
    "for collection_name in [\"prizes\", \"laureates\"]:\n",
    "    singular = collection_name[:-1] # the API uses singular\n",
    "    response = requests.get( \"http://api.nobelprize.org/v1/{}.json\".format(singular)) \n",
    "    documents = response.json()[collection_name] \n",
    "    # Create collections on the fly \n",
    "    db[collection_name].insert_many(documents)"
   ]
  },
  {
   "cell_type": "code",
   "execution_count": 36,
   "metadata": {},
   "outputs": [
    {
     "name": "stdout",
     "output_type": "stream",
     "text": [
      "{'_id': ObjectId('5ed929cf52df1b53c0857509'),\n",
      " 'born': '1845-03-27',\n",
      " 'bornCity': 'Lennep (now Remscheid)',\n",
      " 'bornCountry': 'Prussia (now Germany)',\n",
      " 'bornCountryCode': 'DE',\n",
      " 'died': '1923-02-10',\n",
      " 'diedCity': 'Munich',\n",
      " 'diedCountry': 'Germany',\n",
      " 'diedCountryCode': 'DE',\n",
      " 'firstname': 'Wilhelm Conrad',\n",
      " 'gender': 'male',\n",
      " 'id': '1',\n",
      " 'prizes': [{'affiliations': [{'city': 'Munich',\n",
      "                               'country': 'Germany',\n",
      "                               'name': 'Munich University'}],\n",
      "             'category': 'physics',\n",
      "             'motivation': '\"in recognition of the extraordinary services he '\n",
      "                           'has rendered by the discovery of the remarkable '\n",
      "                           'rays subsequently named after him\"',\n",
      "             'share': '1',\n",
      "             'year': '1901'}],\n",
      " 'surname': 'Röntgen'}\n"
     ]
    }
   ],
   "source": [
    "pprint(db.laureates.find_one())"
   ]
  },
  {
   "cell_type": "code",
   "execution_count": 40,
   "metadata": {},
   "outputs": [
    {
     "name": "stdout",
     "output_type": "stream",
     "text": [
      "5ed929cf52df1b53c0857509\n",
      "{'_id': ObjectId('5ed929ce52df1b53c0857283'),\n",
      " 'category': 'chemistry',\n",
      " 'laureates': [{'firstname': 'John',\n",
      "                'id': '976',\n",
      "                'motivation': '\"for the development of lithium-ion batteries\"',\n",
      "                'share': '3',\n",
      "                'surname': 'Goodenough'},\n",
      "               {'firstname': 'M. Stanley',\n",
      "                'id': '977',\n",
      "                'motivation': '\"for the development of lithium-ion batteries\"',\n",
      "                'share': '3',\n",
      "                'surname': 'Whittingham'},\n",
      "               {'firstname': 'Akira',\n",
      "                'id': '978',\n",
      "                'motivation': '\"for the development of lithium-ion batteries\"',\n",
      "                'share': '3',\n",
      "                'surname': 'Yoshino'}],\n",
      " 'year': '2019'}\n"
     ]
    }
   ],
   "source": [
    "# TODO: Print the first name of the first document\n",
    "#Is it find one?\n",
    "doc1 = db.laureates.find_one()\n",
    "print(doc1['_id'])\n",
    "prize1 = db.prizes.find_one()\n",
    "pprint(prize1)"
   ]
  },
  {
   "cell_type": "markdown",
   "metadata": {},
   "source": [
    "With `count_documents` you can count the number of matching documents. "
   ]
  },
  {
   "cell_type": "code",
   "execution_count": 41,
   "metadata": {},
   "outputs": [
    {
     "name": "stdout",
     "output_type": "stream",
     "text": [
      "53\n"
     ]
    }
   ],
   "source": [
    "# How many female laureates exists? \n",
    "female_count = db.laureates.count_documents({'gender': 'female'})\n",
    "\n",
    "print(female_count)"
   ]
  },
  {
   "cell_type": "markdown",
   "metadata": {},
   "source": [
    "With the `$regex` function you can use a regular expression. `distinct` list only all distinct entries."
   ]
  },
  {
   "cell_type": "code",
   "execution_count": 36,
   "metadata": {},
   "outputs": [
    {
     "data": {
      "text/plain": [
       "['Bavaria (now Germany)',\n",
       " 'East Friesland (now Germany)',\n",
       " 'Germany',\n",
       " 'Germany (now France)',\n",
       " 'Germany (now Poland)',\n",
       " 'Germany (now Russia)',\n",
       " 'Hesse-Kassel (now Germany)',\n",
       " 'Mecklenburg (now Germany)',\n",
       " 'Prussia (now Germany)',\n",
       " 'Schleswig (now Germany)',\n",
       " 'West Germany (now Germany)',\n",
       " 'Württemberg (now Germany)']"
      ]
     },
     "execution_count": 36,
     "metadata": {},
     "output_type": "execute_result"
    }
   ],
   "source": [
    "db.laureates.distinct(\"bornCountry\", {\"bornCountry\": {\"$regex\": \"Germany\"}})"
   ]
  },
  {
   "cell_type": "code",
   "execution_count": 42,
   "metadata": {},
   "outputs": [
    {
     "name": "stdout",
     "output_type": "stream",
     "text": [
      "95\n"
     ]
    }
   ],
   "source": [
    "# TODO: How many laureates are from Germany?\n",
    "germans_count = db.laureates.count_documents({\"bornCountry\": {\"$regex\": \"Germany\"}})\n",
    "\n",
    "print(germans_count)"
   ]
  },
  {
   "cell_type": "code",
   "execution_count": 52,
   "metadata": {},
   "outputs": [
    {
     "name": "stdout",
     "output_type": "stream",
     "text": [
      "[{'year': '1901', 'category': 'physics', 'share': '1', 'motivation': '\"in recognition of the extraordinary services he has rendered by the discovery of the remarkable rays subsequently named after him\"', 'affiliations': [{'name': 'Munich University', 'city': 'Munich', 'country': 'Germany'}]}]\n",
      "Wilhelm Conrad\n",
      "Röntgen\n",
      "[{'year': '1909', 'category': 'physics', 'share': '2', 'motivation': '\"in recognition of their contributions to the development of wireless telegraphy\"', 'affiliations': [{'name': 'Strasbourg University', 'city': 'Strasbourg', 'country': 'Germany (now France)'}]}]\n",
      "Ferdinand\n",
      "Braun\n",
      "[{'year': '1914', 'category': 'physics', 'share': '1', 'motivation': '\"for his discovery of the diffraction of X-rays by crystals\"', 'affiliations': [{'name': 'Frankfurt-on-the-Main University', 'city': 'Frankfurt-on-the-Main', 'country': 'Germany'}]}]\n",
      "Max\n",
      "von Laue\n",
      "[{'year': '1918', 'category': 'physics', 'share': '1', 'motivation': '\"in recognition of the services he rendered to the advancement of Physics by his discovery of energy quanta\"', 'affiliations': [{'name': 'Berlin University', 'city': 'Berlin', 'country': 'Germany'}]}]\n",
      "Max\n",
      "Planck\n",
      "[{'year': '1919', 'category': 'physics', 'share': '1', 'motivation': '\"for his discovery of the Doppler effect in canal rays and the splitting of spectral lines in electric fields\"', 'affiliations': [{'name': 'Greifswald University', 'city': 'Greifswald', 'country': 'Germany'}]}]\n",
      "Johannes\n",
      "Stark\n",
      "[{'year': '1921', 'category': 'physics', 'share': '1', 'motivation': '\"for his services to Theoretical Physics, and especially for his discovery of the law of the photoelectric effect\"', 'affiliations': [{'name': 'Kaiser-Wilhelm-Institut (now Max-Planck-Institut) für Physik', 'city': 'Berlin', 'country': 'Germany'}]}]\n",
      "Albert\n",
      "Einstein\n",
      "[{'year': '1925', 'category': 'physics', 'share': '2', 'motivation': '\"for their discovery of the laws governing the impact of an electron upon an atom\"', 'affiliations': [{'name': 'Goettingen University', 'city': 'Göttingen', 'country': 'Germany'}]}]\n",
      "James\n",
      "Franck\n",
      "[{'year': '1925', 'category': 'physics', 'share': '2', 'motivation': '\"for their discovery of the laws governing the impact of an electron upon an atom\"', 'affiliations': [{'name': 'Halle University', 'city': 'Halle', 'country': 'Germany'}]}]\n",
      "Gustav\n",
      "Hertz\n",
      "[{'year': '1932', 'category': 'physics', 'share': '1', 'motivation': '\"for the creation of quantum mechanics, the application of which has, inter alia, led to the discovery of the allotropic forms of hydrogen\"', 'affiliations': [{'name': 'Leipzig University', 'city': 'Leipzig', 'country': 'Germany'}]}]\n",
      "Werner\n",
      "Heisenberg\n",
      "[{'year': '1943', 'category': 'physics', 'share': '1', 'motivation': '\"for his contribution to the development of the molecular ray method and his discovery of the magnetic moment of the proton\"', 'affiliations': [{'name': 'Carnegie Institute of Technology', 'city': 'Pittsburgh, PA', 'country': 'USA'}]}]\n",
      "Otto\n",
      "Stern\n",
      "[{'year': '1954', 'category': 'physics', 'share': '2', 'motivation': '\"for his fundamental research in quantum mechanics, especially for his statistical interpretation of the wavefunction\"', 'affiliations': [{'name': 'Edinburgh University', 'city': 'Edinburgh', 'country': 'United Kingdom'}]}]\n",
      "Max\n",
      "Born\n",
      "[{'year': '1954', 'category': 'physics', 'share': '2', 'motivation': '\"for the coincidence method and his discoveries made therewith\"', 'affiliations': [{'name': 'University of Heidelberg', 'city': 'Heidelberg', 'country': 'Germany'}, {'name': 'Max-Planck-Institut für medizinische Forschung', 'city': 'Heidelberg', 'country': 'Germany'}]}]\n",
      "Walther\n",
      "Bothe\n",
      "[{'year': '1955', 'category': 'physics', 'share': '2', 'motivation': '\"for his precision determination of the magnetic moment of the electron\"', 'affiliations': [{'name': 'Columbia University', 'city': 'New York, NY', 'country': 'USA'}]}]\n",
      "Polykarp\n",
      "Kusch\n",
      "[{'year': '1961', 'category': 'physics', 'share': '2', 'motivation': '\"for his researches concerning the resonance absorption of gamma radiation and his discovery in this connection of the effect which bears his name\"', 'affiliations': [{'name': 'Technical University', 'city': 'Munich', 'country': 'Germany'}, {'name': 'California Institute of Technology (Caltech)', 'city': 'Pasadena, CA', 'country': 'USA'}]}]\n",
      "Rudolf\n",
      "Mössbauer\n",
      "[{'year': '1963', 'category': 'physics', 'share': '4', 'motivation': '\"for their discoveries concerning nuclear shell structure\"', 'affiliations': [{'name': 'University of California', 'city': 'San Diego, CA', 'country': 'USA'}]}]\n",
      "Maria\n",
      "Goeppert Mayer\n",
      "[{'year': '1963', 'category': 'physics', 'share': '4', 'motivation': '\"for their discoveries concerning nuclear shell structure\"', 'affiliations': [{'name': 'University of Heidelberg', 'city': 'Heidelberg', 'country': 'Germany'}]}]\n",
      "J. Hans D.\n",
      "Jensen\n",
      "[{'year': '1966', 'category': 'physics', 'share': '1', 'motivation': '\"for the discovery and development of optical methods for studying Hertzian resonances in atoms\"', 'affiliations': [{'name': 'École Normale Supérieure', 'city': 'Paris', 'country': 'France'}]}]\n",
      "Alfred\n",
      "Kastler\n",
      "[{'year': '1967', 'category': 'physics', 'share': '1', 'motivation': '\"for his contributions to the theory of nuclear reactions, especially his discoveries concerning the energy production in stars\"', 'affiliations': [{'name': 'Cornell University', 'city': 'Ithaca, NY', 'country': 'USA'}]}]\n",
      "Hans\n",
      "Bethe\n",
      "[{'year': '1978', 'category': 'physics', 'share': '4', 'motivation': '\"for their discovery of cosmic microwave background radiation\"', 'affiliations': [{'name': 'Bell Laboratories', 'city': 'Holmdel, NJ', 'country': 'USA'}]}]\n",
      "Arno\n",
      "Penzias\n",
      "[{'year': '1986', 'category': 'physics', 'share': '2', 'motivation': '\"for his fundamental work in electron optics, and for the design of the first electron microscope\"', 'affiliations': [{'name': 'Fritz-Haber-Institut der Max-Planck-Gesellschaft', 'city': 'Berlin', 'country': 'Germany'}]}]\n",
      "Ernst\n",
      "Ruska\n",
      "[{'year': '1986', 'category': 'physics', 'share': '4', 'motivation': '\"for their design of the scanning tunneling microscope\"', 'affiliations': [{'name': 'IBM Zurich Research Laboratory', 'city': 'Rüschlikon', 'country': 'Switzerland'}]}]\n",
      "Gerd\n",
      "Binnig\n",
      "[{'year': '1987', 'category': 'physics', 'share': '2', 'motivation': '\"for their important break-through in the discovery of superconductivity in ceramic materials\"', 'affiliations': [{'name': 'IBM Zurich Research Laboratory', 'city': 'Rüschlikon', 'country': 'Switzerland'}]}]\n",
      "J. Georg\n",
      "Bednorz\n",
      "[{'year': '1988', 'category': 'physics', 'share': '3', 'motivation': '\"for the neutrino beam method and the demonstration of the doublet structure of the leptons through the discovery of the muon neutrino\"', 'affiliations': [{'name': 'CERN', 'city': 'Geneva', 'country': 'Switzerland'}]}]\n",
      "Jack\n",
      "Steinberger\n",
      "[{'year': '1989', 'category': 'physics', 'share': '4', 'motivation': '\"for the development of the ion trap technique\"', 'affiliations': [{'name': 'University of Washington', 'city': 'Seattle, WA', 'country': 'USA'}]}]\n",
      "Hans G.\n",
      "Dehmelt\n",
      "[{'year': '1989', 'category': 'physics', 'share': '4', 'motivation': '\"for the development of the ion trap technique\"', 'affiliations': [{'name': 'University of Bonn', 'city': 'Bonn', 'country': 'Germany'}]}]\n",
      "Wolfgang\n",
      "Paul\n",
      "[{'year': '1998', 'category': 'physics', 'share': '3', 'motivation': '\"for their discovery of a new form of quantum fluid with fractionally charged excitations\"', 'affiliations': [{'name': 'Columbia University', 'city': 'New York, NY', 'country': 'USA'}]}]\n",
      "Horst L.\n",
      "Störmer\n",
      "[{'year': '2000', 'category': 'physics', 'overallMotivation': '\"for basic work on information and communication technology\"', 'share': '4', 'motivation': '\"for developing semiconductor heterostructures used in high-speed- and opto-electronics\"', 'affiliations': [{'name': 'University of California', 'city': 'Santa Barbara, CA', 'country': 'USA'}]}]\n",
      "Herbert\n",
      "Kroemer\n",
      "[{'year': '2001', 'category': 'physics', 'share': '3', 'motivation': '\"for the achievement of Bose-Einstein condensation in dilute gases of alkali atoms, and for early fundamental studies of the properties of the condensates\"', 'affiliations': [{'name': 'Massachusetts Institute of Technology (MIT)', 'city': 'Cambridge, MA', 'country': 'USA'}]}]\n",
      "Wolfgang\n",
      "Ketterle\n",
      "[{'year': '2005', 'category': 'physics', 'share': '4', 'motivation': '\"for their contributions to the development of laser-based precision spectroscopy, including the optical frequency comb technique\"', 'affiliations': [{'name': 'Max-Planck-Institut für Quantenoptik', 'city': 'Garching', 'country': 'Germany'}, {'name': 'Ludwig-Maximilians- Universität', 'city': 'Munich', 'country': 'Germany'}]}]\n",
      "Theodor W.\n",
      "Hänsch\n",
      "[{'year': '2017', 'category': 'physics', 'share': '2', 'motivation': '\"for decisive contributions to the LIGO detector and the observation of gravitational waves\"', 'affiliations': [{'name': 'LIGO/VIRGO Collaboration'}, {'name': 'Massachusetts Institute of Technology (MIT)', 'city': 'Cambridge, MA', 'country': 'USA'}]}]\n",
      "Rainer\n",
      "Weiss\n"
     ]
    }
   ],
   "source": [
    "# TODO: Find all physics nobel laureates that are from Germany\n",
    "# print the year of the first prize, the first name, and surename\n",
    "physics_germans = db.laureates.find({'prizes.category': 'physics', \"bornCountry\": {\"$regex\": \"Germany\"},})\n",
    "for laureate in physics_germans:\n",
    "    print(laureate['prizes'])\n",
    "    print(laureate['firstname'])\n",
    "    print(laureate['surname'])"
   ]
  },
  {
   "cell_type": "code",
   "execution_count": null,
   "metadata": {},
   "outputs": [],
   "source": []
  },
  {
   "cell_type": "code",
   "execution_count": 64,
   "metadata": {
    "scrolled": true
   },
   "outputs": [
    {
     "name": "stdout",
     "output_type": "stream",
     "text": [
      "{'_id': ObjectId('5ed929cf52df1b53c0857879'), 'id': '914', 'firstname': 'Malala', 'surname': 'Yousafzai', 'born': '1997-07-12', 'died': '0000-00-00', 'bornCountry': 'Pakistan', 'bornCountryCode': 'PK', 'bornCity': 'Mingora', 'gender': 'female', 'prizes': [{'year': '2014', 'category': 'peace', 'share': '2', 'motivation': '\"for their struggle against the suppression of children and young people and for the right of all children to education\"', 'affiliations': [[]]}]}\n"
     ]
    }
   ],
   "source": [
    "# TODO: find and print the document for \"Malala\" (firstname)\n",
    "malala = db.laureates.find_one({'firstname': 'Malala'})\n",
    "\n",
    "print(malala)"
   ]
  },
  {
   "cell_type": "markdown",
   "metadata": {},
   "source": [
    "## Sort()\n",
    "\n",
    "With `sort()` you can sort the list of documents. The parameter of sort is a list of sorting tuples. Each tuple is a value and an integer value 1 or -1 which states whether the collection to be sorted in ascending (1) or descending (-1) order.\n",
    "\n",
    "Sort all restaurants according to the grade in ascending order.\n",
    "```python\n",
    "cursor = db.restaurants.find().sort([(\"grades.grade\", 1)])\n",
    "```"
   ]
  },
  {
   "cell_type": "code",
   "execution_count": 71,
   "metadata": {},
   "outputs": [
    {
     "name": "stdout",
     "output_type": "stream",
     "text": [
      "[{'year': '1903', 'category': 'physics', 'share': '4', 'motivation': '\"in recognition of the extraordinary services they have rendered by their joint researches on the radiation phenomena discovered by Professor Henri Becquerel\"', 'affiliations': [[]]}, {'year': '1911', 'category': 'chemistry', 'share': '1', 'motivation': '\"in recognition of her services to the advancement of chemistry by the discovery of the elements radium and polonium, by the isolation of radium and the study of the nature and compounds of this remarkable element\"', 'affiliations': [{'name': 'Sorbonne University', 'city': 'Paris', 'country': 'France'}]}]\n",
      "Marie\n",
      "Curie\n",
      "[{'year': '1905', 'category': 'peace', 'share': '1', 'motivation': '\"for her audacity to oppose the horrors of war\"', 'affiliations': [[]]}]\n",
      "Bertha\n",
      "von Suttner\n",
      "[{'year': '1909', 'category': 'literature', 'share': '1', 'motivation': '\"in appreciation of the lofty idealism, vivid imagination and spiritual perception that characterize her writings\"', 'affiliations': [[]]}]\n",
      "Selma\n",
      "Lagerlöf\n",
      "[{'year': '1926', 'category': 'literature', 'share': '1', 'motivation': '\"for her idealistically inspired writings which with plastic clarity picture the life on her native island and with depth and sympathy deal with human problems in general\"', 'affiliations': [[]]}]\n",
      "Grazia\n",
      "Deledda\n",
      "[{'year': '1928', 'category': 'literature', 'share': '1', 'motivation': '\"principally for her powerful descriptions of Northern life during the Middle Ages\"', 'affiliations': [[]]}]\n",
      "Sigrid\n",
      "Undset\n",
      "[{'year': '1931', 'category': 'peace', 'share': '2', 'motivation': '\"for their assiduous effort to revive the ideal of peace and to rekindle the spirit of peace in their own nation and in the whole of mankind\"', 'affiliations': [[]]}]\n",
      "Jane\n",
      "Addams\n",
      "[{'year': '1935', 'category': 'chemistry', 'share': '2', 'motivation': '\"in recognition of their synthesis of new radioactive elements\"', 'affiliations': [{'name': 'Institut du Radium', 'city': 'Paris', 'country': 'France'}]}]\n",
      "Irène\n",
      "Joliot-Curie\n",
      "[{'year': '1938', 'category': 'literature', 'share': '1', 'motivation': '\"for her rich and truly epic descriptions of peasant life in China and for her biographical masterpieces\"', 'affiliations': [[]]}]\n",
      "Pearl\n",
      "Buck\n",
      "[{'year': '1945', 'category': 'literature', 'share': '1', 'motivation': '\"for her lyric poetry which, inspired by powerful emotions, has made her name a symbol of the idealistic aspirations of the entire Latin American world\"', 'affiliations': [[]]}]\n",
      "Gabriela\n",
      "Mistral\n",
      "[{'year': '1946', 'category': 'peace', 'share': '2', 'motivation': '\"for her lifelong work for the cause of peace\"', 'affiliations': [[]]}]\n",
      "Emily Greene\n",
      "Balch\n",
      "[{'year': '1947', 'category': 'medicine', 'share': '4', 'motivation': '\"for their discovery of the course of the catalytic conversion of glycogen\"', 'affiliations': [{'name': 'Washington University', 'city': 'St. Louis, MO', 'country': 'USA'}]}]\n",
      "Gerty\n",
      "Cori\n",
      "[{'year': '1963', 'category': 'physics', 'share': '4', 'motivation': '\"for their discoveries concerning nuclear shell structure\"', 'affiliations': [{'name': 'University of California', 'city': 'San Diego, CA', 'country': 'USA'}]}]\n",
      "Maria\n",
      "Goeppert Mayer\n",
      "[{'year': '1964', 'category': 'chemistry', 'share': '1', 'motivation': '\"for her determinations by X-ray techniques of the structures of important biochemical substances\"', 'affiliations': [{'name': 'University of Oxford, Royal Society', 'city': 'Oxford', 'country': 'United Kingdom'}]}]\n",
      "Dorothy Crowfoot\n",
      "Hodgkin\n",
      "[{'year': '1966', 'category': 'literature', 'share': '2', 'motivation': '\"for her outstanding lyrical and dramatic writing, which interprets Israel\\'s destiny with touching strength \"', 'affiliations': [[]]}]\n",
      "Nelly\n",
      "Sachs\n",
      "[{'year': '1976', 'category': 'peace', 'share': '2', 'motivation': '\"for the courageous efforts in founding a movement to put an end to the violent conflict in Northern Ireland\"', 'affiliations': [[]]}]\n",
      "Betty\n",
      "Williams\n",
      "[{'year': '1976', 'category': 'peace', 'share': '2', 'motivation': '\"for the courageous efforts in founding a movement to put an end to the violent conflict in Northern Ireland\"', 'affiliations': [[]]}]\n",
      "Mairead\n",
      "Corrigan\n",
      "[{'year': '1977', 'category': 'medicine', 'share': '2', 'motivation': '\"for the development of radioimmunoassays of peptide hormones\"', 'affiliations': [{'name': 'Veterans Administration Hospital', 'city': 'Bronx, NY', 'country': 'USA'}]}]\n",
      "Rosalyn\n",
      "Yalow\n",
      "[{'year': '1979', 'category': 'peace', 'share': '1', 'motivation': '\"for her work for bringing help to suffering humanity\"', 'affiliations': [[]]}]\n",
      "Anjezë Gonxhe\n",
      "Bojaxhiu\n",
      "[{'year': '1982', 'category': 'peace', 'share': '2', 'motivation': '\"for their work for disarmament and nuclear and weapon-free zones\"', 'affiliations': [[]]}]\n",
      "Alva\n",
      "Myrdal\n",
      "[{'year': '1983', 'category': 'medicine', 'share': '1', 'motivation': '\"for her discovery of mobile genetic elements\"', 'affiliations': [{'name': 'Cold Spring Harbor Laboratory', 'city': 'Cold Spring Harbor, NY', 'country': 'USA'}]}]\n",
      "Barbara\n",
      "McClintock\n",
      "[{'year': '1986', 'category': 'medicine', 'share': '2', 'motivation': '\"for their discoveries of growth factors\"', 'affiliations': [{'name': 'Institute of Cell Biology of the C.N.R.', 'city': 'Rome', 'country': 'Italy'}]}]\n",
      "Rita\n",
      "Levi-Montalcini\n",
      "[{'year': '1988', 'category': 'medicine', 'share': '3', 'motivation': '\"for their discoveries of important principles for drug treatment\"', 'affiliations': [{'name': 'Wellcome Research Laboratories', 'city': 'Research Triangle Park, NC', 'country': 'USA'}]}]\n",
      "Gertrude B.\n",
      "Elion\n",
      "[{'year': '1991', 'category': 'peace', 'share': '1', 'motivation': '\"for her non-violent struggle for democracy and human rights\"', 'affiliations': [[]]}]\n",
      "Aung San Suu Kyi\n"
     ]
    },
    {
     "ename": "KeyError",
     "evalue": "'surname'",
     "output_type": "error",
     "traceback": [
      "\u001b[0;31m---------------------------------------------------------------------------\u001b[0m",
      "\u001b[0;31mKeyError\u001b[0m                                  Traceback (most recent call last)",
      "\u001b[0;32m<ipython-input-71-e271bc9aa31b>\u001b[0m in \u001b[0;36m<module>\u001b[0;34m\u001b[0m\n\u001b[1;32m      7\u001b[0m     \u001b[0mprint\u001b[0m\u001b[0;34m(\u001b[0m\u001b[0mlaureate\u001b[0m\u001b[0;34m[\u001b[0m\u001b[0;34m'prizes'\u001b[0m\u001b[0;34m]\u001b[0m\u001b[0;34m)\u001b[0m\u001b[0;34m\u001b[0m\u001b[0;34m\u001b[0m\u001b[0m\n\u001b[1;32m      8\u001b[0m     \u001b[0mprint\u001b[0m\u001b[0;34m(\u001b[0m\u001b[0mlaureate\u001b[0m\u001b[0;34m[\u001b[0m\u001b[0;34m'firstname'\u001b[0m\u001b[0;34m]\u001b[0m\u001b[0;34m)\u001b[0m\u001b[0;34m\u001b[0m\u001b[0;34m\u001b[0m\u001b[0m\n\u001b[0;32m----> 9\u001b[0;31m     \u001b[0mprint\u001b[0m\u001b[0;34m(\u001b[0m\u001b[0mlaureate\u001b[0m\u001b[0;34m[\u001b[0m\u001b[0;34m'surname'\u001b[0m\u001b[0;34m]\u001b[0m\u001b[0;34m)\u001b[0m\u001b[0;34m\u001b[0m\u001b[0;34m\u001b[0m\u001b[0m\n\u001b[0m",
      "\u001b[0;31mKeyError\u001b[0m: 'surname'"
     ]
    }
   ],
   "source": [
    "# TODO: Find only female nobel laureates \n",
    "# and sort them according the the prize year in ascending order\n",
    "# print year of the first prize, firstname, and surename\n",
    "female = db.laureates.find({'gender':'female'}).sort([('prizes.year', 1)])\n",
    "\n",
    "for laureate in female:\n",
    "    print(laureate['prizes'])\n",
    "    print(laureate['firstname'])\n",
    "    print(laureate['surname'])"
   ]
  },
  {
   "cell_type": "code",
   "execution_count": null,
   "metadata": {},
   "outputs": [],
   "source": []
  }
 ],
 "metadata": {
  "celltoolbar": "Raw Cell Format",
  "kernelspec": {
   "display_name": "Python 3",
   "language": "python",
   "name": "python3"
  },
  "language_info": {
   "codemirror_mode": {
    "name": "ipython",
    "version": 3
   },
   "file_extension": ".py",
   "mimetype": "text/x-python",
   "name": "python",
   "nbconvert_exporter": "python",
   "pygments_lexer": "ipython3",
   "version": "3.7.1"
  },
  "varInspector": {
   "cols": {
    "lenName": 16,
    "lenType": 16,
    "lenVar": 40
   },
   "kernels_config": {
    "python": {
     "delete_cmd_postfix": "",
     "delete_cmd_prefix": "del ",
     "library": "var_list.py",
     "varRefreshCmd": "print(var_dic_list())"
    },
    "r": {
     "delete_cmd_postfix": ") ",
     "delete_cmd_prefix": "rm(",
     "library": "var_list.r",
     "varRefreshCmd": "cat(var_dic_list()) "
    }
   },
   "types_to_exclude": [
    "module",
    "function",
    "builtin_function_or_method",
    "instance",
    "_Feature"
   ],
   "window_display": false
  }
 },
 "nbformat": 4,
 "nbformat_minor": 2
}
