{
  "nbformat": 4,
  "nbformat_minor": 0,
  "metadata": {
    "kernelspec": {
      "display_name": "Python 3",
      "language": "python",
      "name": "python3"
    },
    "language_info": {
      "codemirror_mode": {
        "name": "ipython",
        "version": 3
      },
      "file_extension": ".py",
      "mimetype": "text/x-python",
      "name": "python",
      "nbconvert_exporter": "python",
      "pygments_lexer": "ipython3",
      "version": "3.7.1"
    },
    "varInspector": {
      "cols": {
        "lenName": 16,
        "lenType": 16,
        "lenVar": 40
      },
      "kernels_config": {
        "python": {
          "delete_cmd_postfix": "",
          "delete_cmd_prefix": "del ",
          "library": "var_list.py",
          "varRefreshCmd": "print(var_dic_list())"
        },
        "r": {
          "delete_cmd_postfix": ") ",
          "delete_cmd_prefix": "rm(",
          "library": "var_list.r",
          "varRefreshCmd": "cat(var_dic_list()) "
        }
      },
      "types_to_exclude": [
        "module",
        "function",
        "builtin_function_or_method",
        "instance",
        "_Feature"
      ],
      "window_display": false
    },
    "colab": {
      "name": "agpt_7 Binary Search Tree-Todo.ipynb",
      "provenance": [],
      "collapsed_sections": [],
      "include_colab_link": true
    }
  },
  "cells": [
    {
      "cell_type": "markdown",
      "metadata": {
        "id": "view-in-github",
        "colab_type": "text"
      },
      "source": [
        "<a href=\"https://colab.research.google.com/github/lupis30puc/big_data_practice/blob/master/agpt_7_Binary_Search_Tree_Todo.ipynb\" target=\"_parent\"><img src=\"https://colab.research.google.com/assets/colab-badge.svg\" alt=\"Open In Colab\"/></a>"
      ]
    },
    {
      "cell_type": "markdown",
      "metadata": {
        "id": "fuvFbnDupxMf"
      },
      "source": [
        "Animation: https://www.cs.usfca.edu/~galles/visualization/BST.html"
      ]
    },
    {
      "cell_type": "code",
      "metadata": {
        "id": "K8HPLBz5pxMh"
      },
      "source": [
        "class Node:\n",
        "    \"\"\"\n",
        "    Tree node with left and right child and data\n",
        "    \"\"\"\n",
        "    def __init__(self, data):\n",
        "        self.data = data\n",
        "        self.left = None\n",
        "        self.right = None"
      ],
      "execution_count": null,
      "outputs": []
    },
    {
      "cell_type": "code",
      "metadata": {
        "id": "6DIcXs_dpxMl"
      },
      "source": [
        "class Tree:\n",
        "    def __init__(self):\n",
        "        \"\"\"Create an empty binary search tree\"\"\"\n",
        "        self.root = None\n",
        "    \n",
        "    def insert(self, item):\n",
        "        \"\"\"Add an item in the binary search tree\"\"\"\n",
        "        new_node = Node(item)  # create a new Node\n",
        "        found = False #boolean value\n",
        "        \n",
        "        if self.root is None:  # if Tree is empty\n",
        "            self.root = new_node  # set its root\n",
        "        else:\n",
        "          current = self.root #set current as root\n",
        "        \n",
        "          while found == False: #continues loop until node is inserted\n",
        "              if new_node.data < current.data: #if the node is lower than the current node\n",
        "                if (current.left is None):\n",
        "                  current.left = new_mode\n",
        "                  found = True\n",
        "                else:\n",
        "                  current = current.left #otherwise, current becomes the left child and repeat loop\n",
        "              else:\n",
        "\n",
        "                #to be finished!\n",
        "                self.root.right == None:\n",
        "                self.root.right = new_node\n",
        "    \n",
        "    def find(self, item):\n",
        "        \"\"\"Returns true if item is in the tree or false otherwise\"\"\"\n",
        "        if self.root == None:\n",
        "            raise IndexError(\"Warning: Tree is empty! please use another.\")\n",
        "        else:\n",
        "            node = self.root\n",
        "            # use lazy evaluation here to avoid NoneType Attribute error\n",
        "            while node is not None and node.data is not item:\n",
        "                if node.left == item:\n",
        "                    return True\n",
        "                elif node.right == item:\n",
        "                    return True\n",
        "                else:\n",
        "                    return False\n",
        "            #return node\n",
        "        "
      ],
      "execution_count": null,
      "outputs": []
    },
    {
      "cell_type": "code",
      "metadata": {
        "id": "XnhX7_k2pxMp"
      },
      "source": [
        "tree = Tree()"
      ],
      "execution_count": null,
      "outputs": []
    },
    {
      "cell_type": "code",
      "metadata": {
        "id": "7hdZLCaCpxMt"
      },
      "source": [
        "tree.insert(30)\n",
        "tree.insert(5)\n",
        "tree.insert(50)\n",
        "tree.insert(8)\n",
        "tree.insert(3)\n",
        "tree.insert(100)\n",
        "tree.insert(40)"
      ],
      "execution_count": null,
      "outputs": []
    },
    {
      "cell_type": "code",
      "metadata": {
        "id": "hn_CJYe6pxMx",
        "colab": {
          "base_uri": "https://localhost:8080/",
          "height": 34
        },
        "outputId": "4480b897-9605-422d-e2e8-9e759b7bc63d"
      },
      "source": [
        "tree.find(8)"
      ],
      "execution_count": null,
      "outputs": [
        {
          "output_type": "execute_result",
          "data": {
            "text/plain": [
              "False"
            ]
          },
          "metadata": {
            "tags": []
          },
          "execution_count": 5
        }
      ]
    },
    {
      "cell_type": "code",
      "metadata": {
        "id": "x8-6BRd4pxM2",
        "outputId": "f5ea5dfd-7647-4df2-bfb4-5f6e00882743"
      },
      "source": [
        "tree.find(9)"
      ],
      "execution_count": null,
      "outputs": [
        {
          "output_type": "execute_result",
          "data": {
            "text/plain": [
              "False"
            ]
          },
          "metadata": {
            "tags": []
          },
          "execution_count": 46
        }
      ]
    },
    {
      "cell_type": "markdown",
      "metadata": {
        "id": "fhJz9DEDpxM5"
      },
      "source": [
        "## Why is the worst case time complexity of the find method only $O(n)$ and not $O(log n)$?"
      ]
    },
    {
      "cell_type": "markdown",
      "metadata": {
        "collapsed": true,
        "id": "Gz9rmJd5pxM6"
      },
      "source": [
        "It is O(n) because it has to go through all the leaves to check the item....\n",
        "\n",
        "\n",
        "\n",
        "\n",
        "Time worst case complexity of above solution is O(mn) where m and n are number of nodes in given two trees.\n",
        "\n",
        "We can solve the above problem in O(n) time. Please refer Check if a binary tree is subtree of another binary tree | Set 2 for O(n) solution."
      ]
    },
    {
      "cell_type": "code",
      "metadata": {
        "id": "OKEQE45-pxM7"
      },
      "source": [
        "#ref\n",
        "#https://github.com/TheAlgorithms/Python/blob/master/data_structures/binary_tree/binary_search_tree.py\n",
        "#https://gist.github.com/thinkphp/1450738/34a1cb90e1e0bb91e120acdbce173b788219d9c1"
      ],
      "execution_count": null,
      "outputs": []
    }
  ]
}