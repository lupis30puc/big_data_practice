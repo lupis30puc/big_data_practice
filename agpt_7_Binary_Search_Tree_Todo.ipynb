{
  "nbformat": 4,
  "nbformat_minor": 0,
  "metadata": {
    "kernelspec": {
      "display_name": "Python 3",
      "language": "python",
      "name": "python3"
    },
    "language_info": {
      "codemirror_mode": {
        "name": "ipython",
        "version": 3
      },
      "file_extension": ".py",
      "mimetype": "text/x-python",
      "name": "python",
      "nbconvert_exporter": "python",
      "pygments_lexer": "ipython3",
      "version": "3.7.1"
    },
    "varInspector": {
      "cols": {
        "lenName": 16,
        "lenType": 16,
        "lenVar": 40
      },
      "kernels_config": {
        "python": {
          "delete_cmd_postfix": "",
          "delete_cmd_prefix": "del ",
          "library": "var_list.py",
          "varRefreshCmd": "print(var_dic_list())"
        },
        "r": {
          "delete_cmd_postfix": ") ",
          "delete_cmd_prefix": "rm(",
          "library": "var_list.r",
          "varRefreshCmd": "cat(var_dic_list()) "
        }
      },
      "types_to_exclude": [
        "module",
        "function",
        "builtin_function_or_method",
        "instance",
        "_Feature"
      ],
      "window_display": false
    },
    "colab": {
      "name": "agpt_7 Binary Search Tree-Todo.ipynb",
      "provenance": [],
      "collapsed_sections": [],
      "include_colab_link": true
    }
  },
  "cells": [
    {
      "cell_type": "markdown",
      "metadata": {
        "id": "view-in-github",
        "colab_type": "text"
      },
      "source": [
        "<a href=\"https://colab.research.google.com/github/lupis30puc/big_data_practice/blob/master/agpt_7_Binary_Search_Tree_Todo.ipynb\" target=\"_parent\"><img src=\"https://colab.research.google.com/assets/colab-badge.svg\" alt=\"Open In Colab\"/></a>"
      ]
    },
    {
      "cell_type": "markdown",
      "metadata": {
        "id": "fuvFbnDupxMf",
        "colab_type": "text"
      },
      "source": [
        "Animation: https://www.cs.usfca.edu/~galles/visualization/BST.html"
      ]
    },
    {
      "cell_type": "code",
      "metadata": {
        "id": "K8HPLBz5pxMh",
        "colab_type": "code",
        "colab": {}
      },
      "source": [
        "class Node:\n",
        "    \"\"\"\n",
        "    Tree node with left and right child and data\n",
        "    \"\"\"\n",
        "    def __init__(self, data):\n",
        "        self.data = data\n",
        "        self.left = None\n",
        "        self.right = None"
      ],
      "execution_count": 0,
      "outputs": []
    },
    {
      "cell_type": "code",
      "metadata": {
        "id": "6DIcXs_dpxMl",
        "colab_type": "code",
        "colab": {}
      },
      "source": [
        "class Tree:\n",
        "    def __init__(self):\n",
        "        \"\"\"Create an empty binary search tree\"\"\"\n",
        "        self.root = None\n",
        "    \n",
        "    def insert(self, item):\n",
        "        \"\"\"Add an item in the binary search tree\"\"\"\n",
        "        new_node = Node(item)  # create a new Node\n",
        "        if self.root == None:  # if Tree is empty\n",
        "            self.root = new_node  # set its root\n",
        "        elif self.root.left == None:\n",
        "            self.root.left = new_node\n",
        "        elif self.root.right == None:\n",
        "            self.root.right = new_node\n",
        "    \n",
        "    def find(self, item):\n",
        "        \"\"\"Returns true if item is in the tree or false otherwise\"\"\"\n",
        "        if self.root == None:\n",
        "            raise IndexError(\"Warning: Tree is empty! please use another.\")\n",
        "        else:\n",
        "            node = self.root\n",
        "            # use lazy evaluation here to avoid NoneType Attribute error\n",
        "            while node is not None and node.data is not item:\n",
        "                if node.left == item:\n",
        "                    return True\n",
        "                elif node.right == item:\n",
        "                    return True\n",
        "                else:\n",
        "                    return False\n",
        "            #return node\n",
        "        "
      ],
      "execution_count": 0,
      "outputs": []
    },
    {
      "cell_type": "code",
      "metadata": {
        "id": "XnhX7_k2pxMp",
        "colab_type": "code",
        "colab": {}
      },
      "source": [
        "tree = Tree()"
      ],
      "execution_count": 0,
      "outputs": []
    },
    {
      "cell_type": "code",
      "metadata": {
        "id": "7hdZLCaCpxMt",
        "colab_type": "code",
        "colab": {}
      },
      "source": [
        "tree.insert(30)\n",
        "tree.insert(5)\n",
        "tree.insert(50)\n",
        "tree.insert(8)\n",
        "tree.insert(3)\n",
        "tree.insert(100)\n",
        "tree.insert(40)"
      ],
      "execution_count": 0,
      "outputs": []
    },
    {
      "cell_type": "code",
      "metadata": {
        "id": "hn_CJYe6pxMx",
        "colab_type": "code",
        "outputId": "1d290503-ecb7-4179-b05b-a8269856e3bb",
        "colab": {}
      },
      "source": [
        "tree.find(8)"
      ],
      "execution_count": 0,
      "outputs": [
        {
          "output_type": "execute_result",
          "data": {
            "text/plain": [
              "False"
            ]
          },
          "metadata": {
            "tags": []
          },
          "execution_count": 44
        }
      ]
    },
    {
      "cell_type": "code",
      "metadata": {
        "id": "x8-6BRd4pxM2",
        "colab_type": "code",
        "outputId": "f5ea5dfd-7647-4df2-bfb4-5f6e00882743",
        "colab": {}
      },
      "source": [
        "tree.find(9)"
      ],
      "execution_count": 0,
      "outputs": [
        {
          "output_type": "execute_result",
          "data": {
            "text/plain": [
              "False"
            ]
          },
          "metadata": {
            "tags": []
          },
          "execution_count": 46
        }
      ]
    },
    {
      "cell_type": "markdown",
      "metadata": {
        "id": "fhJz9DEDpxM5",
        "colab_type": "text"
      },
      "source": [
        "## Why is the worst case time complexity of the find method only $O(n)$ and not $O(log n)$?"
      ]
    },
    {
      "cell_type": "markdown",
      "metadata": {
        "collapsed": true,
        "id": "Gz9rmJd5pxM6",
        "colab_type": "text"
      },
      "source": [
        "Time worst case complexity of above solution is O(mn) where m and n are number of nodes in given two trees.\n",
        "\n",
        "We can solve the above problem in O(n) time. Please refer Check if a binary tree is subtree of another binary tree | Set 2 for O(n) solution."
      ]
    },
    {
      "cell_type": "code",
      "metadata": {
        "id": "OKEQE45-pxM7",
        "colab_type": "code",
        "colab": {}
      },
      "source": [
        "#ref\n",
        "#https://github.com/TheAlgorithms/Python/blob/master/data_structures/binary_tree/binary_search_tree.py\n",
        "#https://gist.github.com/thinkphp/1450738/34a1cb90e1e0bb91e120acdbce173b788219d9c1"
      ],
      "execution_count": 0,
      "outputs": []
    }
  ]
}