{
  "nbformat": 4,
  "nbformat_minor": 0,
  "metadata": {
    "kernelspec": {
      "display_name": "Python 3",
      "language": "python",
      "name": "python3"
    },
    "language_info": {
      "codemirror_mode": {
        "name": "ipython",
        "version": 3
      },
      "file_extension": ".py",
      "mimetype": "text/x-python",
      "name": "python",
      "nbconvert_exporter": "python",
      "pygments_lexer": "ipython3",
      "version": "3.7.1"
    },
    "varInspector": {
      "cols": {
        "lenName": 16,
        "lenType": 16,
        "lenVar": 40
      },
      "kernels_config": {
        "python": {
          "delete_cmd_postfix": "",
          "delete_cmd_prefix": "del ",
          "library": "var_list.py",
          "varRefreshCmd": "print(var_dic_list())"
        },
        "r": {
          "delete_cmd_postfix": ") ",
          "delete_cmd_prefix": "rm(",
          "library": "var_list.r",
          "varRefreshCmd": "cat(var_dic_list()) "
        }
      },
      "types_to_exclude": [
        "module",
        "function",
        "builtin_function_or_method",
        "instance",
        "_Feature"
      ],
      "window_display": false
    },
    "colab": {
      "name": "4 Decision Trees Todo.ipynb",
      "provenance": [],
      "include_colab_link": true
    }
  },
  "cells": [
    {
      "cell_type": "markdown",
      "metadata": {
        "id": "view-in-github",
        "colab_type": "text"
      },
      "source": [
        "<a href=\"https://colab.research.google.com/github/lupis30puc/big_data_practice/blob/master/4_Decision_Trees_Todo.ipynb\" target=\"_parent\"><img src=\"https://colab.research.google.com/assets/colab-badge.svg\" alt=\"Open In Colab\"/></a>"
      ]
    },
    {
      "cell_type": "code",
      "metadata": {
        "id": "LMLRz_IUVrsn",
        "colab_type": "code",
        "colab": {}
      },
      "source": [
        "# import symbolic capability to Python\n",
        "from sympy import *\n",
        "# print things all pretty\n",
        "from sympy.abc import *\n",
        "from sympy.plotting import plot\n",
        "import matplotlib.pyplot as plt\n",
        "import numpy as np\n",
        "from IPython.display import display\n",
        "init_printing()"
      ],
      "execution_count": 0,
      "outputs": []
    },
    {
      "cell_type": "markdown",
      "metadata": {
        "id": "gsdDcP4zVrsu",
        "colab_type": "text"
      },
      "source": [
        "# Exercise\n",
        "\n",
        "You have a dataset with $m$ binary columns and $n$ rows. A given decision tree has the depth $d$.\n",
        "\n",
        "## Questions:\n",
        "1. How many different decision trees with depth $d=1$ are possible for a dataset with $m$ binary columns and $n$ rows?\n",
        "2. How many different decision trees with depth $d=2$ are possible for a dataset with $m$ binary columns and $n$ rows?\n",
        "3. How many different decision trees with depth $d=3$ are possible for a dataset with $m$ binary columns and $n$ rows?\n",
        "4. How many different decision trees with depth $d=4$ are possible for a dataset with $m$ binary columns and $n$ rows?\n",
        "5. In general, how many different decision trees with depth $d$ are possible for a dataset with $m$ binary columns and $n$ rows?\n",
        "6. How may different decision trees are possible for $m=4$ and $d=4$?\n",
        "7. In general, how many different decision trees of any depth are possible for a dataset with $m$ binary columns and $n$ rows?\n",
        "8. How many decision trees are possible for $m=4$ binary columns?\n",
        "9. There are $10^{80}$ atoms in the universe. What is the value for $m$ so that the number of decision trees is greater than the number of atoms in the universe?\n",
        "10. How many operations (steps) does the naive testing take of all possible decision trees for a dataset with $m$ binary columns and $n$ rows?\n",
        "11. How many operations (steps) does the naive testing take of all possible decision trees for a dataset with $m=3$ binary columns and $n=100$ rows?"
      ]
    },
    {
      "cell_type": "markdown",
      "metadata": {
        "id": "MTuS04_qVrsv",
        "colab_type": "text"
      },
      "source": [
        "Variables:\n",
        "* $n$: number of rows of the data\n",
        "* $m$: number of binary columns (attributes) of the data\n",
        "* $d$: depth of the decision tree"
      ]
    },
    {
      "cell_type": "code",
      "metadata": {
        "id": "Nz9qf-McVrsw",
        "colab_type": "code",
        "colab": {}
      },
      "source": [
        "m = symbols(\"m\", positive=True, integer=True)\n",
        "d = symbols(\"d\", positive=True, integer=True)\n",
        "n = symbols(\"n\", positive=True, integer=True)"
      ],
      "execution_count": 0,
      "outputs": []
    },
    {
      "cell_type": "markdown",
      "metadata": {
        "id": "UXcoxMyFVrsz",
        "colab_type": "text"
      },
      "source": [
        "## Answers:\n",
        "\n",
        "Todo"
      ]
    },
    {
      "cell_type": "code",
      "metadata": {
        "id": "FmBF0jVjVrs0",
        "colab_type": "code",
        "colab": {}
      },
      "source": [
        "#Q1 \n",
        "#How many different decision trees with depth  𝑑=1  \n",
        "#are possible for a dataset with  𝑚  binary columns and  𝑛  rows?\n",
        "tree_1 = (m * n) **1"
      ],
      "execution_count": 0,
      "outputs": []
    },
    {
      "cell_type": "code",
      "metadata": {
        "id": "ColnZ5S6Vrs4",
        "colab_type": "code",
        "colab": {}
      },
      "source": [
        "#Q2 -- d=2\n",
        "tree_2 = (m * n) **2"
      ],
      "execution_count": 0,
      "outputs": []
    },
    {
      "cell_type": "code",
      "metadata": {
        "id": "7_-V0q4IVrs7",
        "colab_type": "code",
        "colab": {}
      },
      "source": [
        "#Q3 -- d=3\n",
        "tree_3 = (m * n) **3"
      ],
      "execution_count": 0,
      "outputs": []
    }
  ]
}